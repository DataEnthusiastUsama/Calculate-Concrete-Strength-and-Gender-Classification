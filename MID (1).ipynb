{
  "nbformat": 4,
  "nbformat_minor": 0,
  "metadata": {
    "colab": {
      "provenance": []
    },
    "kernelspec": {
      "name": "python3",
      "display_name": "Python 3"
    },
    "language_info": {
      "name": "python"
    }
  },
  "cells": [
    {
      "cell_type": "markdown",
      "source": [
        "Q1. Gender Classification\n",
        "\n",
        "Use train_test_split(random_state = 42,test_size = 0.2)\n",
        "\n",
        "Do some EDA (countplots, show images, find missing values etc.)\n",
        "\n",
        "a. Use Base SVM(LinearSVC) model.\n",
        "\n",
        "b. Create a CNN model with 3 Conv2D layers, 3 Maxpooling2D layers, any extra layers necessary.\n",
        "\n",
        "c. Get atleast 90% test accuracy using the above CNN model.\n",
        "\n",
        "Data: https://www.kaggle.com/datasets/cashutosh/gender-classification-dataset"
      ],
      "metadata": {
        "id": "UKreC1p_fDv5"
      }
    },
    {
      "cell_type": "code",
      "execution_count": null,
      "metadata": {
        "id": "hBh4zei2fAmy"
      },
      "outputs": [],
      "source": [
        "# Your code here"
      ]
    },
    {
      "cell_type": "markdown",
      "source": [
        "\n",
        "Q2. Cement Strength Regression\n",
        "\n",
        "Use train_test_split(random_state = 42,test_size = 0.2)\n",
        "\n",
        "Do some EDA.\n",
        "\n",
        "a. Use Linear, Ridge, and Lasso Regression.\n",
        "\n",
        "b. Show results of the best model (least test data mean squared error) using a loop to compare the values.\n",
        "\n",
        "c. Create any neural network you feel like making (RNN, CNN, ANN, or any other) and achieve a test data mean squared error lesser than the best model in part b.\n",
        "\n",
        "Data: https://www.kaggle.com/datasets/prathamtripathi/regression-with-neural-networking"
      ],
      "metadata": {
        "id": "st5nzAHljND9"
      }
    }
  ]
}